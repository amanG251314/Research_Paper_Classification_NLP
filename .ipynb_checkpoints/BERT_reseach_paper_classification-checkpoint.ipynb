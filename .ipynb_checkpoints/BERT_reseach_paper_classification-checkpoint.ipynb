{
 "cells": [
  {
   "cell_type": "markdown",
   "metadata": {
    "id": "aS0NOX9-PSPu"
   },
   "source": [
    "## Checking for GPU"
   ]
  },
  {
   "cell_type": "code",
   "execution_count": 1,
   "metadata": {
    "colab": {
     "base_uri": "https://localhost:8080/"
    },
    "id": "GlUyEfY4VHTc",
    "outputId": "c1bf97a7-cecd-49a7-80ad-19d60c9007e1"
   },
   "outputs": [
    {
     "name": "stdout",
     "output_type": "stream",
     "text": [
      "Wed Jun 30 21:28:10 2021       \n",
      "+-----------------------------------------------------------------------------+\n",
      "| NVIDIA-SMI 471.11       Driver Version: 471.11       CUDA Version: 11.4     |\n",
      "|-------------------------------+----------------------+----------------------+\n",
      "| GPU  Name            TCC/WDDM | Bus-Id        Disp.A | Volatile Uncorr. ECC |\n",
      "| Fan  Temp  Perf  Pwr:Usage/Cap|         Memory-Usage | GPU-Util  Compute M. |\n",
      "|                               |                      |               MIG M. |\n",
      "|===============================+======================+======================|\n",
      "|   0  NVIDIA GeForce ... WDDM  | 00000000:01:00.0 Off |                  N/A |\n",
      "| N/A   51C    P8     2W /  N/A |    134MiB /  4096MiB |      0%      Default |\n",
      "|                               |                      |                  N/A |\n",
      "+-------------------------------+----------------------+----------------------+\n",
      "                                                                               \n",
      "+-----------------------------------------------------------------------------+\n",
      "| Processes:                                                                  |\n",
      "|  GPU   GI   CI        PID   Type   Process name                  GPU Memory |\n",
      "|        ID   ID                                                   Usage      |\n",
      "|=============================================================================|\n",
      "|  No running processes found                                                 |\n",
      "+-----------------------------------------------------------------------------+\n"
     ]
    }
   ],
   "source": [
    "!nvidia-smi"
   ]
  },
  {
   "cell_type": "markdown",
   "metadata": {},
   "source": [
    "## Installing Ktrain library"
   ]
  },
  {
   "cell_type": "code",
   "execution_count": 3,
   "metadata": {
    "colab": {
     "base_uri": "https://localhost:8080/"
    },
    "id": "IxTaYRKcPcLE",
    "outputId": "cf72f4be-4ce4-4d91-c4a5-ba38387fcc0d"
   },
   "outputs": [
    {
     "name": "stdout",
     "output_type": "stream",
     "text": [
      "Collecting ktrain\n",
      "  Downloading ktrain-0.26.4.tar.gz (25.3 MB)\n",
      "Collecting scikit-learn==0.23.2\n",
      "  Using cached scikit_learn-0.23.2-cp38-cp38-win_amd64.whl (6.8 MB)\n"
     ]
    },
    {
     "name": "stderr",
     "output_type": "stream",
     "text": [
      "ERROR: pip's dependency resolver does not currently take into account all the packages that are installed. This behaviour is the source of the following dependency conflicts.\n",
      "sktime 0.6.0 requires scikit-learn>=0.24.0, but you have scikit-learn 0.23.2 which is incompatible.\n",
      "pmdarima 1.8.2 requires numpy~=1.19.0, but you have numpy 1.21.0 which is incompatible.\n",
      "imbalanced-learn 0.8.0 requires scikit-learn>=0.24, but you have scikit-learn 0.23.2 which is incompatible.\n"
     ]
    },
    {
     "name": "stdout",
     "output_type": "stream",
     "text": [
      "Requirement already satisfied: matplotlib>=3.0.0 in c:\\users\\aman\\appdata\\local\\programs\\python\\python38\\lib\\site-packages (from ktrain) (3.4.1)\n",
      "Requirement already satisfied: pandas>=1.0.1 in c:\\users\\aman\\appdata\\local\\programs\\python\\python38\\lib\\site-packages (from ktrain) (1.2.5)\n",
      "Collecting fastprogress>=0.1.21\n",
      "  Downloading fastprogress-1.0.0-py3-none-any.whl (12 kB)\n",
      "Requirement already satisfied: requests in c:\\users\\aman\\appdata\\local\\programs\\python\\python38\\lib\\site-packages (from ktrain) (2.25.1)\n",
      "Requirement already satisfied: joblib in c:\\users\\aman\\appdata\\local\\programs\\python\\python38\\lib\\site-packages (from ktrain) (1.0.1)\n",
      "Requirement already satisfied: packaging in c:\\users\\aman\\appdata\\local\\programs\\python\\python38\\lib\\site-packages (from ktrain) (20.4)\n",
      "Requirement already satisfied: ipython in c:\\users\\aman\\appdata\\local\\programs\\python\\python38\\lib\\site-packages (from ktrain) (7.19.0)\n",
      "Collecting langdetect\n",
      "  Downloading langdetect-1.0.9.tar.gz (981 kB)\n",
      "Collecting jieba\n",
      "  Downloading jieba-0.42.1.tar.gz (19.2 MB)\n",
      "Collecting cchardet\n",
      "  Downloading cchardet-2.1.7-cp38-cp38-win_amd64.whl (115 kB)\n",
      "Collecting syntok\n",
      "  Downloading syntok-1.3.1.tar.gz (23 kB)\n",
      "Collecting seqeval==0.0.19\n",
      "  Downloading seqeval-0.0.19.tar.gz (30 kB)\n",
      "Requirement already satisfied: transformers<=4.3.3,>=4.0.0 in c:\\users\\aman\\appdata\\local\\programs\\python\\python38\\lib\\site-packages (from ktrain) (4.3.3)\n",
      "Requirement already satisfied: sentencepiece in c:\\users\\aman\\appdata\\local\\programs\\python\\python38\\lib\\site-packages (from ktrain) (0.1.95)\n",
      "Collecting keras_bert>=0.86.0\n",
      "  Downloading keras-bert-0.88.0.tar.gz (26 kB)\n",
      "Requirement already satisfied: networkx>=2.3 in c:\\users\\aman\\appdata\\local\\programs\\python\\python38\\lib\\site-packages (from ktrain) (2.5.1)\n",
      "Collecting whoosh\n",
      "  Downloading Whoosh-2.7.4-py2.py3-none-any.whl (468 kB)\n",
      "Requirement already satisfied: threadpoolctl>=2.0.0 in c:\\users\\aman\\appdata\\local\\programs\\python\\python38\\lib\\site-packages (from scikit-learn==0.23.2->ktrain) (2.1.0)\n",
      "Requirement already satisfied: numpy>=1.13.3 in c:\\users\\aman\\appdata\\local\\programs\\python\\python38\\lib\\site-packages (from scikit-learn==0.23.2->ktrain) (1.21.0)\n",
      "Requirement already satisfied: scipy>=0.19.1 in c:\\users\\aman\\appdata\\local\\programs\\python\\python38\\lib\\site-packages (from scikit-learn==0.23.2->ktrain) (1.7.0)\n",
      "Requirement already satisfied: Keras>=2.2.4 in c:\\users\\aman\\appdata\\local\\programs\\python\\python38\\lib\\site-packages (from seqeval==0.0.19->ktrain) (2.4.3)\n",
      "Requirement already satisfied: pyyaml in c:\\users\\aman\\appdata\\local\\programs\\python\\python38\\lib\\site-packages (from Keras>=2.2.4->seqeval==0.0.19->ktrain) (5.4.1)\n",
      "Requirement already satisfied: h5py in c:\\users\\aman\\appdata\\local\\programs\\python\\python38\\lib\\site-packages (from Keras>=2.2.4->seqeval==0.0.19->ktrain) (2.10.0)\n",
      "Collecting keras-transformer>=0.39.0\n",
      "  Downloading keras-transformer-0.39.0.tar.gz (11 kB)\n",
      "Collecting keras-pos-embd>=0.12.0\n",
      "  Downloading keras-pos-embd-0.12.0.tar.gz (6.0 kB)\n",
      "Collecting keras-multi-head>=0.28.0\n",
      "  Downloading keras-multi-head-0.28.0.tar.gz (14 kB)\n",
      "Collecting keras-layer-normalization>=0.15.0\n",
      "  Downloading keras-layer-normalization-0.15.0.tar.gz (4.2 kB)\n",
      "Collecting keras-position-wise-feed-forward>=0.7.0\n",
      "  Downloading keras-position-wise-feed-forward-0.7.0.tar.gz (4.5 kB)\n",
      "Collecting keras-embed-sim>=0.9.0\n",
      "  Downloading keras-embed-sim-0.9.0.tar.gz (4.1 kB)\n",
      "Collecting keras-self-attention>=0.50.0\n",
      "  Downloading keras-self-attention-0.50.0.tar.gz (12 kB)\n",
      "Requirement already satisfied: kiwisolver>=1.0.1 in c:\\users\\aman\\appdata\\local\\programs\\python\\python38\\lib\\site-packages (from matplotlib>=3.0.0->ktrain) (1.2.0)\n",
      "Requirement already satisfied: pillow>=6.2.0 in c:\\users\\aman\\appdata\\local\\programs\\python\\python38\\lib\\site-packages (from matplotlib>=3.0.0->ktrain) (8.0.1)\n",
      "Requirement already satisfied: pyparsing>=2.2.1 in c:\\users\\aman\\appdata\\local\\programs\\python\\python38\\lib\\site-packages (from matplotlib>=3.0.0->ktrain) (2.4.7)\n",
      "Requirement already satisfied: python-dateutil>=2.7 in c:\\users\\aman\\appdata\\local\\programs\\python\\python38\\lib\\site-packages (from matplotlib>=3.0.0->ktrain) (2.8.1)\n",
      "Requirement already satisfied: cycler>=0.10 in c:\\users\\aman\\appdata\\local\\programs\\python\\python38\\lib\\site-packages (from matplotlib>=3.0.0->ktrain) (0.10.0)\n",
      "Requirement already satisfied: six in c:\\users\\aman\\appdata\\local\\programs\\python\\python38\\lib\\site-packages (from cycler>=0.10->matplotlib>=3.0.0->ktrain) (1.16.0)\n",
      "Requirement already satisfied: decorator<5,>=4.3 in c:\\users\\aman\\appdata\\local\\programs\\python\\python38\\lib\\site-packages (from networkx>=2.3->ktrain) (4.4.2)\n",
      "Requirement already satisfied: pytz>=2017.3 in c:\\users\\aman\\appdata\\local\\programs\\python\\python38\\lib\\site-packages (from pandas>=1.0.1->ktrain) (2021.1)\n",
      "Requirement already satisfied: tokenizers<0.11,>=0.10.1 in c:\\users\\aman\\appdata\\local\\programs\\python\\python38\\lib\\site-packages (from transformers<=4.3.3,>=4.0.0->ktrain) (0.10.1)\n",
      "Requirement already satisfied: filelock in c:\\users\\aman\\appdata\\local\\programs\\python\\python38\\lib\\site-packages (from transformers<=4.3.3,>=4.0.0->ktrain) (3.0.12)\n",
      "Requirement already satisfied: sacremoses in c:\\users\\aman\\appdata\\local\\programs\\python\\python38\\lib\\site-packages (from transformers<=4.3.3,>=4.0.0->ktrain) (0.0.43)\n",
      "Requirement already satisfied: tqdm>=4.27 in c:\\users\\aman\\appdata\\local\\programs\\python\\python38\\lib\\site-packages (from transformers<=4.3.3,>=4.0.0->ktrain) (4.60.0)\n",
      "Requirement already satisfied: regex!=2019.12.17 in c:\\users\\aman\\appdata\\local\\programs\\python\\python38\\lib\\site-packages (from transformers<=4.3.3,>=4.0.0->ktrain) (2020.10.28)\n",
      "Requirement already satisfied: prompt-toolkit!=3.0.0,!=3.0.1,<3.1.0,>=2.0.0 in c:\\users\\aman\\appdata\\local\\programs\\python\\python38\\lib\\site-packages (from ipython->ktrain) (3.0.8)\n",
      "Requirement already satisfied: backcall in c:\\users\\aman\\appdata\\local\\programs\\python\\python38\\lib\\site-packages (from ipython->ktrain) (0.2.0)\n",
      "Requirement already satisfied: setuptools>=18.5 in c:\\users\\aman\\appdata\\local\\programs\\python\\python38\\lib\\site-packages (from ipython->ktrain) (47.1.0)\n",
      "Requirement already satisfied: jedi>=0.10 in c:\\users\\aman\\appdata\\local\\programs\\python\\python38\\lib\\site-packages (from ipython->ktrain) (0.17.2)\n",
      "Requirement already satisfied: pygments in c:\\users\\aman\\appdata\\local\\programs\\python\\python38\\lib\\site-packages (from ipython->ktrain) (2.7.2)\n",
      "Requirement already satisfied: traitlets>=4.2 in c:\\users\\aman\\appdata\\local\\programs\\python\\python38\\lib\\site-packages (from ipython->ktrain) (5.0.5)\n",
      "Requirement already satisfied: pickleshare in c:\\users\\aman\\appdata\\local\\programs\\python\\python38\\lib\\site-packages (from ipython->ktrain) (0.7.5)\n",
      "Requirement already satisfied: colorama in c:\\users\\aman\\appdata\\local\\programs\\python\\python38\\lib\\site-packages (from ipython->ktrain) (0.4.4)\n",
      "Requirement already satisfied: parso<0.8.0,>=0.7.0 in c:\\users\\aman\\appdata\\local\\programs\\python\\python38\\lib\\site-packages (from jedi>=0.10->ipython->ktrain) (0.7.1)\n",
      "Requirement already satisfied: wcwidth in c:\\users\\aman\\appdata\\local\\programs\\python\\python38\\lib\\site-packages (from prompt-toolkit!=3.0.0,!=3.0.1,<3.1.0,>=2.0.0->ipython->ktrain) (0.2.5)\n",
      "Requirement already satisfied: ipython-genutils in c:\\users\\aman\\appdata\\local\\programs\\python\\python38\\lib\\site-packages (from traitlets>=4.2->ipython->ktrain) (0.2.0)\n",
      "Requirement already satisfied: certifi>=2017.4.17 in c:\\users\\aman\\appdata\\local\\programs\\python\\python38\\lib\\site-packages (from requests->ktrain) (2021.5.30)\n",
      "Requirement already satisfied: chardet<5,>=3.0.2 in c:\\users\\aman\\appdata\\local\\programs\\python\\python38\\lib\\site-packages (from requests->ktrain) (4.0.0)\n",
      "Requirement already satisfied: idna<3,>=2.5 in c:\\users\\aman\\appdata\\local\\programs\\python\\python38\\lib\\site-packages (from requests->ktrain) (2.10)\n",
      "Requirement already satisfied: urllib3<1.27,>=1.21.1 in c:\\users\\aman\\appdata\\local\\programs\\python\\python38\\lib\\site-packages (from requests->ktrain) (1.26.6)\n",
      "Requirement already satisfied: click in c:\\users\\aman\\appdata\\local\\programs\\python\\python38\\lib\\site-packages (from sacremoses->transformers<=4.3.3,>=4.0.0->ktrain) (8.0.1)\n",
      "Building wheels for collected packages: ktrain, seqeval, keras-bert, keras-transformer, keras-embed-sim, keras-layer-normalization, keras-multi-head, keras-pos-embd, keras-position-wise-feed-forward, keras-self-attention, jieba, langdetect, syntok\n",
      "  Building wheel for ktrain (setup.py): started\n",
      "  Building wheel for ktrain (setup.py): finished with status 'done'\n",
      "  Created wheel for ktrain: filename=ktrain-0.26.4-py3-none-any.whl size=25282450 sha256=6022531aeda87dae8a2be3e9e2e8ddb86fe3e34d9ae71c8220c4b230288b1fd2\n",
      "  Stored in directory: c:\\users\\aman\\appdata\\local\\pip\\cache\\wheels\\82\\70\\fe\\0583ec687b65e71c4de1ba3784dfe49ed7c3811baed1da5b4a\n",
      "  Building wheel for seqeval (setup.py): started\n",
      "  Building wheel for seqeval (setup.py): finished with status 'done'\n",
      "  Created wheel for seqeval: filename=seqeval-0.0.19-py3-none-any.whl size=9918 sha256=286dbeefb882d83933994454710a30491e232423f6e0b1b94574741d9327b951\n",
      "  Stored in directory: c:\\users\\aman\\appdata\\local\\pip\\cache\\wheels\\58\\e5\\9e\\2f94312239a6753267da6ceafe12d614603b78d308676df5e2\n",
      "  Building wheel for keras-bert (setup.py): started\n",
      "  Building wheel for keras-bert (setup.py): finished with status 'done'\n",
      "  Created wheel for keras-bert: filename=keras_bert-0.88.0-py3-none-any.whl size=34205 sha256=bcde239a416a528cc63f0dcc3414fc97dfabf78325196e978eb255d5356ec6b8\n",
      "  Stored in directory: c:\\users\\aman\\appdata\\local\\pip\\cache\\wheels\\93\\49\\c0\\a457bd5fa37d67ef12409478d387b6d06ff1e7621318d2f605\n",
      "  Building wheel for keras-transformer (setup.py): started\n",
      "  Building wheel for keras-transformer (setup.py): finished with status 'done'\n",
      "  Created wheel for keras-transformer: filename=keras_transformer-0.39.0-py3-none-any.whl size=12840 sha256=c2011e05e4fd3811ee436c199994de03eec161816917147dd2fe3921c93b30f4\n",
      "  Stored in directory: c:\\users\\aman\\appdata\\local\\pip\\cache\\wheels\\58\\f1\\0f\\7cee08d3022c85ec4dc179740ed30a88be1b987df69cee0a72\n",
      "  Building wheel for keras-embed-sim (setup.py): started\n",
      "  Building wheel for keras-embed-sim (setup.py): finished with status 'done'\n",
      "  Created wheel for keras-embed-sim: filename=keras_embed_sim-0.9.0-py3-none-any.whl size=4506 sha256=1168392f10a743be758e8b3277fcee9af677356b5a59aea3d827c04bb98543aa\n",
      "  Stored in directory: c:\\users\\aman\\appdata\\local\\pip\\cache\\wheels\\27\\20\\08\\4d24796fdf8219bdd7c108bd7aa94b83bbe2500bd695a9f710\n",
      "  Building wheel for keras-layer-normalization (setup.py): started\n",
      "  Building wheel for keras-layer-normalization (setup.py): finished with status 'done'\n",
      "  Created wheel for keras-layer-normalization: filename=keras_layer_normalization-0.15.0-py3-none-any.whl size=5224 sha256=2bc1e76485b48ef6ab4ffd84db1e9382a99b17d702e5adbf1365fea107e3ef96\n",
      "  Stored in directory: c:\\users\\aman\\appdata\\local\\pip\\cache\\wheels\\df\\57\\6a\\9b3bb5cad057de237abd13a88c405e8c9fd35d0b961857cc94\n",
      "  Building wheel for keras-multi-head (setup.py): started\n",
      "  Building wheel for keras-multi-head (setup.py): finished with status 'done'\n",
      "  Created wheel for keras-multi-head: filename=keras_multi_head-0.28.0-py3-none-any.whl size=15560 sha256=8b504a2cf26bbbee2e113c3ad5868e207c7538b36435b61866e28c4541e39833\n",
      "  Stored in directory: c:\\users\\aman\\appdata\\local\\pip\\cache\\wheels\\eb\\cd\\c0\\b5cc0768484f702e7a5a9a54854821159947043217990cc025\n",
      "  Building wheel for keras-pos-embd (setup.py): started\n",
      "  Building wheel for keras-pos-embd (setup.py): finished with status 'done'\n",
      "  Created wheel for keras-pos-embd: filename=keras_pos_embd-0.12.0-py3-none-any.whl size=7470 sha256=d0aefdb3ccad97156f666d4acc4b2704d0e978849ca6f91d6847fb3754b1a875\n",
      "  Stored in directory: c:\\users\\aman\\appdata\\local\\pip\\cache\\wheels\\c0\\b7\\8f\\ef4ba34a4f7e8154c0837151d60744a5521bbd2545282a6f08\n",
      "  Building wheel for keras-position-wise-feed-forward (setup.py): started\n",
      "  Building wheel for keras-position-wise-feed-forward (setup.py): finished with status 'done'\n",
      "  Created wheel for keras-position-wise-feed-forward: filename=keras_position_wise_feed_forward-0.7.0-py3-none-any.whl size=5541 sha256=4546a4fa2f9d9f5c3018593b8e8518bcce6aa8299ce7fb8b96e578b4cff3d8f7\n",
      "  Stored in directory: c:\\users\\aman\\appdata\\local\\pip\\cache\\wheels\\05\\07\\ac\\0ef26b6dae886e6ba8749242cd7878481e228a1149f648282e\n",
      "  Building wheel for keras-self-attention (setup.py): started\n",
      "  Building wheel for keras-self-attention (setup.py): finished with status 'done'\n",
      "  Created wheel for keras-self-attention: filename=keras_self_attention-0.50.0-py3-none-any.whl size=19415 sha256=a465cf5d4bcd38fbae33b11326ce5eaa5e5bdaa595ee74f1914c6242c3352aee\n",
      "  Stored in directory: c:\\users\\aman\\appdata\\local\\pip\\cache\\wheels\\dc\\33\\4c\\0429815c6d822ce17fc32b0809659e4a083b7e05fc26699450\n",
      "  Building wheel for jieba (setup.py): started\n",
      "  Building wheel for jieba (setup.py): finished with status 'done'\n",
      "  Created wheel for jieba: filename=jieba-0.42.1-py3-none-any.whl size=19314477 sha256=4b076b4fc50be2f3bfb333bcd37420d85994eb2400a5620fd580ddf0acaa5fa3\n",
      "  Stored in directory: c:\\users\\aman\\appdata\\local\\pip\\cache\\wheels\\ca\\38\\d8\\dfdfe73bec1d12026b30cb7ce8da650f3f0ea2cf155ea018ae\n",
      "  Building wheel for langdetect (setup.py): started\n",
      "  Building wheel for langdetect (setup.py): finished with status 'done'\n",
      "  Created wheel for langdetect: filename=langdetect-1.0.9-py3-none-any.whl size=993221 sha256=183a26e0945e231c089647dd4c0ecc710a74f48f5bd3f3caa55457355a3c6192\n",
      "  Stored in directory: c:\\users\\aman\\appdata\\local\\pip\\cache\\wheels\\13\\c7\\b0\\79f66658626032e78fc1a83103690ef6797d551cb22e56e734\n",
      "  Building wheel for syntok (setup.py): started\n",
      "  Building wheel for syntok (setup.py): finished with status 'done'\n",
      "  Created wheel for syntok: filename=syntok-1.3.1-py3-none-any.whl size=20917 sha256=7fc8ee4785fdf3a930b842ec7fb8dd64f26103edf9cd984835cc8a98d60e7ae6\n",
      "  Stored in directory: c:\\users\\aman\\appdata\\local\\pip\\cache\\wheels\\24\\fd\\23\\26e82d723a0455d2cb72fe6af9dd1f0b2a9a1312829470b304\n",
      "Successfully built ktrain seqeval keras-bert keras-transformer keras-embed-sim keras-layer-normalization keras-multi-head keras-pos-embd keras-position-wise-feed-forward keras-self-attention jieba langdetect syntok\n",
      "Installing collected packages: keras-self-attention, keras-position-wise-feed-forward, keras-pos-embd, keras-multi-head, keras-layer-normalization, keras-embed-sim, keras-transformer, whoosh, syntok, seqeval, scikit-learn, langdetect, keras-bert, jieba, fastprogress, cchardet, ktrain\n",
      "  Attempting uninstall: seqeval\n",
      "    Found existing installation: seqeval 1.2.2\n",
      "    Uninstalling seqeval-1.2.2:\n",
      "      Successfully uninstalled seqeval-1.2.2\n",
      "  Attempting uninstall: scikit-learn\n",
      "    Found existing installation: scikit-learn 0.24.2\n",
      "    Uninstalling scikit-learn-0.24.2:\n",
      "      Successfully uninstalled scikit-learn-0.24.2\n",
      "Successfully installed cchardet-2.1.7 fastprogress-1.0.0 jieba-0.42.1 keras-bert-0.88.0 keras-embed-sim-0.9.0 keras-layer-normalization-0.15.0 keras-multi-head-0.28.0 keras-pos-embd-0.12.0 keras-position-wise-feed-forward-0.7.0 keras-self-attention-0.50.0 keras-transformer-0.39.0 ktrain-0.26.4 langdetect-1.0.9 scikit-learn-0.23.2 seqeval-0.0.19 syntok-1.3.1 whoosh-2.7.4\n"
     ]
    }
   ],
   "source": [
    "!pip install ktrain"
   ]
  },
  {
   "cell_type": "code",
   "execution_count": 6,
   "metadata": {
    "id": "Ul6ufd_zPn_c"
   },
   "outputs": [],
   "source": [
    "import tensorflow as tf"
   ]
  },
  {
   "cell_type": "code",
   "execution_count": 7,
   "metadata": {
    "colab": {
     "base_uri": "https://localhost:8080/",
     "height": 34
    },
    "id": "1Z2TVVjpPrSz",
    "outputId": "e37d643c-fe53-4590-8238-98bb8df03800"
   },
   "outputs": [
    {
     "data": {
      "text/plain": [
       "'2.4.1'"
      ]
     },
     "execution_count": 7,
     "metadata": {},
     "output_type": "execute_result"
    }
   ],
   "source": [
    "tf.__version__"
   ]
  },
  {
   "cell_type": "code",
   "execution_count": 8,
   "metadata": {
    "id": "kwWslExtPs-F"
   },
   "outputs": [],
   "source": [
    "import pandas as pd\n",
    "import numpy as np\n",
    "import ktrain\n",
    "from ktrain import text\n",
    "import tensorflow as tf\n",
    "from sklearn.metrics import accuracy_score, confusion_matrix,classification_report,f1_score,roc_curve"
   ]
  },
  {
   "cell_type": "code",
   "execution_count": 10,
   "metadata": {
    "colab": {
     "base_uri": "https://localhost:8080/",
     "height": 205
    },
    "id": "6t5af4tXQFWr",
    "outputId": "b6155f53-49e6-473b-d827-081bc6de0320"
   },
   "outputs": [
    {
     "data": {
      "text/html": [
       "<div>\n",
       "<style scoped>\n",
       "    .dataframe tbody tr th:only-of-type {\n",
       "        vertical-align: middle;\n",
       "    }\n",
       "\n",
       "    .dataframe tbody tr th {\n",
       "        vertical-align: top;\n",
       "    }\n",
       "\n",
       "    .dataframe thead th {\n",
       "        text-align: right;\n",
       "    }\n",
       "</style>\n",
       "<table border=\"1\" class=\"dataframe\">\n",
       "  <thead>\n",
       "    <tr style=\"text-align: right;\">\n",
       "      <th></th>\n",
       "      <th>id</th>\n",
       "      <th>text</th>\n",
       "      <th>label</th>\n",
       "    </tr>\n",
       "  </thead>\n",
       "  <tbody>\n",
       "    <tr>\n",
       "      <th>0</th>\n",
       "      <td>0</td>\n",
       "      <td>we propose deep network models and learning al...</td>\n",
       "      <td>3</td>\n",
       "    </tr>\n",
       "    <tr>\n",
       "      <th>1</th>\n",
       "      <td>1</td>\n",
       "      <td>multi-distance information computed by the MDL...</td>\n",
       "      <td>3</td>\n",
       "    </tr>\n",
       "    <tr>\n",
       "      <th>2</th>\n",
       "      <td>2</td>\n",
       "      <td>traditional solutions consider dense pedestria...</td>\n",
       "      <td>2</td>\n",
       "    </tr>\n",
       "    <tr>\n",
       "      <th>3</th>\n",
       "      <td>3</td>\n",
       "      <td>in this paper, is used the lagrangian classica...</td>\n",
       "      <td>2</td>\n",
       "    </tr>\n",
       "    <tr>\n",
       "      <th>4</th>\n",
       "      <td>4</td>\n",
       "      <td>the aim of this work is to determine how vulne...</td>\n",
       "      <td>3</td>\n",
       "    </tr>\n",
       "  </tbody>\n",
       "</table>\n",
       "</div>"
      ],
      "text/plain": [
       "   id                                               text  label\n",
       "0   0  we propose deep network models and learning al...      3\n",
       "1   1  multi-distance information computed by the MDL...      3\n",
       "2   2  traditional solutions consider dense pedestria...      2\n",
       "3   3  in this paper, is used the lagrangian classica...      2\n",
       "4   4  the aim of this work is to determine how vulne...      3"
      ]
     },
     "execution_count": 10,
     "metadata": {},
     "output_type": "execute_result"
    }
   ],
   "source": [
    "train_df = pd.read_csv(\"Data/train.csv\")\n",
    "val_df = pd.read_csv(\"Data/val.csv\")\n",
    "test_df = pd.read_csv(\"Data/test.csv\")\n",
    "train_df.head()"
   ]
  },
  {
   "cell_type": "code",
   "execution_count": 11,
   "metadata": {
    "id": "tI3nIXjLG6kh"
   },
   "outputs": [],
   "source": [
    "trainplusval=pd.concat([train_df,val_df])"
   ]
  },
  {
   "cell_type": "code",
   "execution_count": 12,
   "metadata": {
    "colab": {
     "base_uri": "https://localhost:8080/"
    },
    "id": "-TZNdnkOHFxR",
    "outputId": "2ead0da9-415f-43f1-dbb7-00ba04ed5ee1"
   },
   "outputs": [
    {
     "name": "stdout",
     "output_type": "stream",
     "text": [
      "<class 'pandas.core.frame.DataFrame'>\n",
      "Int64Index: 34200 entries, 0 to 2699\n",
      "Data columns (total 3 columns):\n",
      " #   Column  Non-Null Count  Dtype \n",
      "---  ------  --------------  ----- \n",
      " 0   id      34200 non-null  int64 \n",
      " 1   text    34200 non-null  object\n",
      " 2   label   34200 non-null  int64 \n",
      "dtypes: int64(2), object(1)\n",
      "memory usage: 1.0+ MB\n"
     ]
    }
   ],
   "source": [
    "trainplusval.info()"
   ]
  },
  {
   "cell_type": "code",
   "execution_count": 13,
   "metadata": {
    "id": "JNFOdisbV-QH"
   },
   "outputs": [],
   "source": [
    "word_count=test_df['text'].apply(lambda x:len(x.split()))"
   ]
  },
  {
   "cell_type": "code",
   "execution_count": 14,
   "metadata": {
    "colab": {
     "base_uri": "https://localhost:8080/"
    },
    "id": "UbCGY7vcWDZd",
    "outputId": "d8b66b02-37cf-4102-bc3f-3022dc63c2a3"
   },
   "outputs": [
    {
     "data": {
      "text/plain": [
       "91"
      ]
     },
     "execution_count": 14,
     "metadata": {},
     "output_type": "execute_result"
    }
   ],
   "source": [
    "max(word_count)"
   ]
  },
  {
   "cell_type": "code",
   "execution_count": 15,
   "metadata": {
    "colab": {
     "base_uri": "https://localhost:8080/",
     "height": 380
    },
    "id": "S9TOKFmoQKCL",
    "outputId": "a511a092-675b-4fdf-b858-322de3b6cdcf"
   },
   "outputs": [
    {
     "name": "stdout",
     "output_type": "stream",
     "text": [
      "['label_0', 'label_1', 'label_2', 'label_3']\n",
      "       label_0  label_1  label_2  label_3\n",
      "15207      0.0      0.0      0.0      1.0\n",
      "18954      0.0      0.0      0.0      1.0\n",
      "11033      0.0      0.0      0.0      1.0\n",
      "25026      0.0      1.0      0.0      0.0\n",
      "14958      1.0      0.0      0.0      0.0\n",
      "['label_0', 'label_1', 'label_2', 'label_3']\n",
      "       label_0  label_1  label_2  label_3\n",
      "13639      0.0      1.0      0.0      0.0\n",
      "9404       0.0      0.0      0.0      1.0\n",
      "30188      0.0      0.0      0.0      1.0\n",
      "15464      0.0      0.0      0.0      1.0\n",
      "26221      0.0      0.0      0.0      1.0\n",
      "downloading pretrained BERT model (uncased_L-12_H-768_A-12.zip)...\n",
      "[██████████████████████████████████████████████████]\n",
      "extracting pretrained BERT model...\n",
      "done.\n",
      "\n",
      "cleanup downloaded zip...\n",
      "done.\n",
      "\n",
      "preprocessing train...\n",
      "language: en\n"
     ]
    },
    {
     "data": {
      "text/html": [
       "done."
      ],
      "text/plain": [
       "<IPython.core.display.HTML object>"
      ]
     },
     "metadata": {},
     "output_type": "display_data"
    },
    {
     "name": "stdout",
     "output_type": "stream",
     "text": [
      "Is Multi-Label? False\n",
      "preprocessing test...\n",
      "language: en\n"
     ]
    },
    {
     "data": {
      "text/html": [
       "done."
      ],
      "text/plain": [
       "<IPython.core.display.HTML object>"
      ]
     },
     "metadata": {},
     "output_type": "display_data"
    }
   ],
   "source": [
    "(X_train, y_train), (X_test, y_test), preproc = text.texts_from_df(train_df=trainplusval,\n",
    "                                                                   text_column ='text',\n",
    "                                                                   label_columns ='label',\n",
    "#                                                                   val_df = val_df,\n",
    "                                                                   maxlen = 91,\n",
    "                                                                   preprocess_mode = 'bert')"
   ]
  },
  {
   "cell_type": "code",
   "execution_count": 16,
   "metadata": {
    "colab": {
     "base_uri": "https://localhost:8080/"
    },
    "id": "8Trq4vJaQhRh",
    "outputId": "f0b8e529-2bf1-42f1-f499-c515701dc286"
   },
   "outputs": [
    {
     "name": "stdout",
     "output_type": "stream",
     "text": [
      "Is Multi-Label? False\n",
      "maxlen is 91\n",
      "done.\n"
     ]
    }
   ],
   "source": [
    "model = text.text_classifier(name = 'bert',\n",
    "                             train_data = (X_train, y_train),\n",
    "                             preproc = preproc)"
   ]
  },
  {
   "cell_type": "code",
   "execution_count": 17,
   "metadata": {
    "id": "Zzy6KuBHQkne"
   },
   "outputs": [],
   "source": [
    "learner = ktrain.get_learner(model=model, train_data=(X_train, y_train),\n",
    "                   val_data = (X_test, y_test),\n",
    "                   batch_size = 6)"
   ]
  },
  {
   "cell_type": "code",
   "execution_count": 18,
   "metadata": {
    "colab": {
     "base_uri": "https://localhost:8080/"
    },
    "id": "tyVUYyxyQmHb",
    "outputId": "6edd10dc-c400-4969-d056-9f4184f7eddc"
   },
   "outputs": [
    {
     "name": "stdout",
     "output_type": "stream",
     "text": [
      "\n",
      "\n",
      "begin training using onecycle policy with max lr of 2e-05...\n",
      "  22/5130 [..............................] - ETA: 47:56 - loss: 1.3380 - accuracy: 0.5844"
     ]
    },
    {
     "ename": "KeyboardInterrupt",
     "evalue": "",
     "output_type": "error",
     "traceback": [
      "\u001b[1;31m---------------------------------------------------------------------------\u001b[0m",
      "\u001b[1;31mKeyboardInterrupt\u001b[0m                         Traceback (most recent call last)",
      "\u001b[1;32m<ipython-input-18-fd251c3e257f>\u001b[0m in \u001b[0;36m<module>\u001b[1;34m\u001b[0m\n\u001b[1;32m----> 1\u001b[1;33m \u001b[0mlearner\u001b[0m\u001b[1;33m.\u001b[0m\u001b[0mfit_onecycle\u001b[0m\u001b[1;33m(\u001b[0m\u001b[0mlr\u001b[0m \u001b[1;33m=\u001b[0m \u001b[1;36m2e-5\u001b[0m\u001b[1;33m,\u001b[0m \u001b[0mepochs\u001b[0m \u001b[1;33m=\u001b[0m \u001b[1;36m1\u001b[0m\u001b[1;33m)\u001b[0m\u001b[1;33m\u001b[0m\u001b[1;33m\u001b[0m\u001b[0m\n\u001b[0m",
      "\u001b[1;32mc:\\users\\aman\\appdata\\local\\programs\\python\\python38\\lib\\site-packages\\ktrain\\core.py\u001b[0m in \u001b[0;36mfit_onecycle\u001b[1;34m(self, lr, epochs, checkpoint_folder, cycle_momentum, max_momentum, min_momentum, class_weight, callbacks, steps_per_epoch, verbose)\u001b[0m\n\u001b[0;32m    896\u001b[0m         U.vprint('begin training using %s policy with max lr of %s...' % (policy, lr), \n\u001b[0;32m    897\u001b[0m                 verbose=verbose)\n\u001b[1;32m--> 898\u001b[1;33m         hist = self.fit(lr, epochs, early_stopping=None,\n\u001b[0m\u001b[0;32m    899\u001b[0m                         \u001b[0mcheckpoint_folder\u001b[0m\u001b[1;33m=\u001b[0m\u001b[0mcheckpoint_folder\u001b[0m\u001b[1;33m,\u001b[0m\u001b[1;33m\u001b[0m\u001b[1;33m\u001b[0m\u001b[0m\n\u001b[0;32m    900\u001b[0m                         \u001b[0mverbose\u001b[0m\u001b[1;33m=\u001b[0m\u001b[0mverbose\u001b[0m\u001b[1;33m,\u001b[0m \u001b[0mclass_weight\u001b[0m\u001b[1;33m=\u001b[0m\u001b[0mclass_weight\u001b[0m\u001b[1;33m,\u001b[0m \u001b[0mcallbacks\u001b[0m\u001b[1;33m=\u001b[0m\u001b[0mkcallbacks\u001b[0m\u001b[1;33m,\u001b[0m\u001b[1;33m\u001b[0m\u001b[1;33m\u001b[0m\u001b[0m\n",
      "\u001b[1;32mc:\\users\\aman\\appdata\\local\\programs\\python\\python38\\lib\\site-packages\\ktrain\\core.py\u001b[0m in \u001b[0;36mfit\u001b[1;34m(self, lr, n_cycles, cycle_len, cycle_mult, lr_decay, checkpoint_folder, early_stopping, verbose, class_weight, callbacks, steps_per_epoch)\u001b[0m\n\u001b[0;32m   1173\u001b[0m         \u001b[1;32mwith\u001b[0m \u001b[0mwarnings\u001b[0m\u001b[1;33m.\u001b[0m\u001b[0mcatch_warnings\u001b[0m\u001b[1;33m(\u001b[0m\u001b[1;33m)\u001b[0m\u001b[1;33m:\u001b[0m\u001b[1;33m\u001b[0m\u001b[1;33m\u001b[0m\u001b[0m\n\u001b[0;32m   1174\u001b[0m             \u001b[0mwarnings\u001b[0m\u001b[1;33m.\u001b[0m\u001b[0mfilterwarnings\u001b[0m\u001b[1;33m(\u001b[0m\u001b[1;34m'ignore'\u001b[0m\u001b[1;33m,\u001b[0m \u001b[0mmessage\u001b[0m\u001b[1;33m=\u001b[0m\u001b[1;34m'.*Check your callbacks.*'\u001b[0m\u001b[1;33m)\u001b[0m\u001b[1;33m\u001b[0m\u001b[1;33m\u001b[0m\u001b[0m\n\u001b[1;32m-> 1175\u001b[1;33m             hist = self.model.fit(self._prepare(x_train), \n\u001b[0m\u001b[0;32m   1176\u001b[0m                                   \u001b[0mself\u001b[0m\u001b[1;33m.\u001b[0m\u001b[0m_prepare\u001b[0m\u001b[1;33m(\u001b[0m\u001b[0my_train\u001b[0m\u001b[1;33m,\u001b[0m \u001b[0mtrain\u001b[0m\u001b[1;33m=\u001b[0m\u001b[1;32mFalse\u001b[0m\u001b[1;33m)\u001b[0m\u001b[1;33m,\u001b[0m\u001b[1;33m\u001b[0m\u001b[1;33m\u001b[0m\u001b[0m\n\u001b[0;32m   1177\u001b[0m                                   \u001b[0mbatch_size\u001b[0m\u001b[1;33m=\u001b[0m\u001b[0mself\u001b[0m\u001b[1;33m.\u001b[0m\u001b[0mbatch_size\u001b[0m\u001b[1;33m,\u001b[0m\u001b[1;33m\u001b[0m\u001b[1;33m\u001b[0m\u001b[0m\n",
      "\u001b[1;32mc:\\users\\aman\\appdata\\local\\programs\\python\\python38\\lib\\site-packages\\tensorflow\\python\\keras\\engine\\training.py\u001b[0m in \u001b[0;36mfit\u001b[1;34m(self, x, y, batch_size, epochs, verbose, callbacks, validation_split, validation_data, shuffle, class_weight, sample_weight, initial_epoch, steps_per_epoch, validation_steps, validation_batch_size, validation_freq, max_queue_size, workers, use_multiprocessing)\u001b[0m\n\u001b[0;32m   1098\u001b[0m                 _r=1):\n\u001b[0;32m   1099\u001b[0m               \u001b[0mcallbacks\u001b[0m\u001b[1;33m.\u001b[0m\u001b[0mon_train_batch_begin\u001b[0m\u001b[1;33m(\u001b[0m\u001b[0mstep\u001b[0m\u001b[1;33m)\u001b[0m\u001b[1;33m\u001b[0m\u001b[1;33m\u001b[0m\u001b[0m\n\u001b[1;32m-> 1100\u001b[1;33m               \u001b[0mtmp_logs\u001b[0m \u001b[1;33m=\u001b[0m \u001b[0mself\u001b[0m\u001b[1;33m.\u001b[0m\u001b[0mtrain_function\u001b[0m\u001b[1;33m(\u001b[0m\u001b[0miterator\u001b[0m\u001b[1;33m)\u001b[0m\u001b[1;33m\u001b[0m\u001b[1;33m\u001b[0m\u001b[0m\n\u001b[0m\u001b[0;32m   1101\u001b[0m               \u001b[1;32mif\u001b[0m \u001b[0mdata_handler\u001b[0m\u001b[1;33m.\u001b[0m\u001b[0mshould_sync\u001b[0m\u001b[1;33m:\u001b[0m\u001b[1;33m\u001b[0m\u001b[1;33m\u001b[0m\u001b[0m\n\u001b[0;32m   1102\u001b[0m                 \u001b[0mcontext\u001b[0m\u001b[1;33m.\u001b[0m\u001b[0masync_wait\u001b[0m\u001b[1;33m(\u001b[0m\u001b[1;33m)\u001b[0m\u001b[1;33m\u001b[0m\u001b[1;33m\u001b[0m\u001b[0m\n",
      "\u001b[1;32mc:\\users\\aman\\appdata\\local\\programs\\python\\python38\\lib\\site-packages\\tensorflow\\python\\eager\\def_function.py\u001b[0m in \u001b[0;36m__call__\u001b[1;34m(self, *args, **kwds)\u001b[0m\n\u001b[0;32m    826\u001b[0m     \u001b[0mtracing_count\u001b[0m \u001b[1;33m=\u001b[0m \u001b[0mself\u001b[0m\u001b[1;33m.\u001b[0m\u001b[0mexperimental_get_tracing_count\u001b[0m\u001b[1;33m(\u001b[0m\u001b[1;33m)\u001b[0m\u001b[1;33m\u001b[0m\u001b[1;33m\u001b[0m\u001b[0m\n\u001b[0;32m    827\u001b[0m     \u001b[1;32mwith\u001b[0m \u001b[0mtrace\u001b[0m\u001b[1;33m.\u001b[0m\u001b[0mTrace\u001b[0m\u001b[1;33m(\u001b[0m\u001b[0mself\u001b[0m\u001b[1;33m.\u001b[0m\u001b[0m_name\u001b[0m\u001b[1;33m)\u001b[0m \u001b[1;32mas\u001b[0m \u001b[0mtm\u001b[0m\u001b[1;33m:\u001b[0m\u001b[1;33m\u001b[0m\u001b[1;33m\u001b[0m\u001b[0m\n\u001b[1;32m--> 828\u001b[1;33m       \u001b[0mresult\u001b[0m \u001b[1;33m=\u001b[0m \u001b[0mself\u001b[0m\u001b[1;33m.\u001b[0m\u001b[0m_call\u001b[0m\u001b[1;33m(\u001b[0m\u001b[1;33m*\u001b[0m\u001b[0margs\u001b[0m\u001b[1;33m,\u001b[0m \u001b[1;33m**\u001b[0m\u001b[0mkwds\u001b[0m\u001b[1;33m)\u001b[0m\u001b[1;33m\u001b[0m\u001b[1;33m\u001b[0m\u001b[0m\n\u001b[0m\u001b[0;32m    829\u001b[0m       \u001b[0mcompiler\u001b[0m \u001b[1;33m=\u001b[0m \u001b[1;34m\"xla\"\u001b[0m \u001b[1;32mif\u001b[0m \u001b[0mself\u001b[0m\u001b[1;33m.\u001b[0m\u001b[0m_experimental_compile\u001b[0m \u001b[1;32melse\u001b[0m \u001b[1;34m\"nonXla\"\u001b[0m\u001b[1;33m\u001b[0m\u001b[1;33m\u001b[0m\u001b[0m\n\u001b[0;32m    830\u001b[0m       \u001b[0mnew_tracing_count\u001b[0m \u001b[1;33m=\u001b[0m \u001b[0mself\u001b[0m\u001b[1;33m.\u001b[0m\u001b[0mexperimental_get_tracing_count\u001b[0m\u001b[1;33m(\u001b[0m\u001b[1;33m)\u001b[0m\u001b[1;33m\u001b[0m\u001b[1;33m\u001b[0m\u001b[0m\n",
      "\u001b[1;32mc:\\users\\aman\\appdata\\local\\programs\\python\\python38\\lib\\site-packages\\tensorflow\\python\\eager\\def_function.py\u001b[0m in \u001b[0;36m_call\u001b[1;34m(self, *args, **kwds)\u001b[0m\n\u001b[0;32m    853\u001b[0m       \u001b[1;31m# In this case we have created variables on the first call, so we run the\u001b[0m\u001b[1;33m\u001b[0m\u001b[1;33m\u001b[0m\u001b[1;33m\u001b[0m\u001b[0m\n\u001b[0;32m    854\u001b[0m       \u001b[1;31m# defunned version which is guaranteed to never create variables.\u001b[0m\u001b[1;33m\u001b[0m\u001b[1;33m\u001b[0m\u001b[1;33m\u001b[0m\u001b[0m\n\u001b[1;32m--> 855\u001b[1;33m       \u001b[1;32mreturn\u001b[0m \u001b[0mself\u001b[0m\u001b[1;33m.\u001b[0m\u001b[0m_stateless_fn\u001b[0m\u001b[1;33m(\u001b[0m\u001b[1;33m*\u001b[0m\u001b[0margs\u001b[0m\u001b[1;33m,\u001b[0m \u001b[1;33m**\u001b[0m\u001b[0mkwds\u001b[0m\u001b[1;33m)\u001b[0m  \u001b[1;31m# pylint: disable=not-callable\u001b[0m\u001b[1;33m\u001b[0m\u001b[1;33m\u001b[0m\u001b[0m\n\u001b[0m\u001b[0;32m    856\u001b[0m     \u001b[1;32melif\u001b[0m \u001b[0mself\u001b[0m\u001b[1;33m.\u001b[0m\u001b[0m_stateful_fn\u001b[0m \u001b[1;32mis\u001b[0m \u001b[1;32mnot\u001b[0m \u001b[1;32mNone\u001b[0m\u001b[1;33m:\u001b[0m\u001b[1;33m\u001b[0m\u001b[1;33m\u001b[0m\u001b[0m\n\u001b[0;32m    857\u001b[0m       \u001b[1;31m# Release the lock early so that multiple threads can perform the call\u001b[0m\u001b[1;33m\u001b[0m\u001b[1;33m\u001b[0m\u001b[1;33m\u001b[0m\u001b[0m\n",
      "\u001b[1;32mc:\\users\\aman\\appdata\\local\\programs\\python\\python38\\lib\\site-packages\\tensorflow\\python\\eager\\function.py\u001b[0m in \u001b[0;36m__call__\u001b[1;34m(self, *args, **kwargs)\u001b[0m\n\u001b[0;32m   2940\u001b[0m       (graph_function,\n\u001b[0;32m   2941\u001b[0m        filtered_flat_args) = self._maybe_define_function(args, kwargs)\n\u001b[1;32m-> 2942\u001b[1;33m     return graph_function._call_flat(\n\u001b[0m\u001b[0;32m   2943\u001b[0m         filtered_flat_args, captured_inputs=graph_function.captured_inputs)  # pylint: disable=protected-access\n\u001b[0;32m   2944\u001b[0m \u001b[1;33m\u001b[0m\u001b[0m\n",
      "\u001b[1;32mc:\\users\\aman\\appdata\\local\\programs\\python\\python38\\lib\\site-packages\\tensorflow\\python\\eager\\function.py\u001b[0m in \u001b[0;36m_call_flat\u001b[1;34m(self, args, captured_inputs, cancellation_manager)\u001b[0m\n\u001b[0;32m   1916\u001b[0m         and executing_eagerly):\n\u001b[0;32m   1917\u001b[0m       \u001b[1;31m# No tape is watching; skip to running the function.\u001b[0m\u001b[1;33m\u001b[0m\u001b[1;33m\u001b[0m\u001b[1;33m\u001b[0m\u001b[0m\n\u001b[1;32m-> 1918\u001b[1;33m       return self._build_call_outputs(self._inference_function.call(\n\u001b[0m\u001b[0;32m   1919\u001b[0m           ctx, args, cancellation_manager=cancellation_manager))\n\u001b[0;32m   1920\u001b[0m     forward_backward = self._select_forward_and_backward_functions(\n",
      "\u001b[1;32mc:\\users\\aman\\appdata\\local\\programs\\python\\python38\\lib\\site-packages\\tensorflow\\python\\eager\\function.py\u001b[0m in \u001b[0;36mcall\u001b[1;34m(self, ctx, args, cancellation_manager)\u001b[0m\n\u001b[0;32m    553\u001b[0m       \u001b[1;32mwith\u001b[0m \u001b[0m_InterpolateFunctionError\u001b[0m\u001b[1;33m(\u001b[0m\u001b[0mself\u001b[0m\u001b[1;33m)\u001b[0m\u001b[1;33m:\u001b[0m\u001b[1;33m\u001b[0m\u001b[1;33m\u001b[0m\u001b[0m\n\u001b[0;32m    554\u001b[0m         \u001b[1;32mif\u001b[0m \u001b[0mcancellation_manager\u001b[0m \u001b[1;32mis\u001b[0m \u001b[1;32mNone\u001b[0m\u001b[1;33m:\u001b[0m\u001b[1;33m\u001b[0m\u001b[1;33m\u001b[0m\u001b[0m\n\u001b[1;32m--> 555\u001b[1;33m           outputs = execute.execute(\n\u001b[0m\u001b[0;32m    556\u001b[0m               \u001b[0mstr\u001b[0m\u001b[1;33m(\u001b[0m\u001b[0mself\u001b[0m\u001b[1;33m.\u001b[0m\u001b[0msignature\u001b[0m\u001b[1;33m.\u001b[0m\u001b[0mname\u001b[0m\u001b[1;33m)\u001b[0m\u001b[1;33m,\u001b[0m\u001b[1;33m\u001b[0m\u001b[1;33m\u001b[0m\u001b[0m\n\u001b[0;32m    557\u001b[0m               \u001b[0mnum_outputs\u001b[0m\u001b[1;33m=\u001b[0m\u001b[0mself\u001b[0m\u001b[1;33m.\u001b[0m\u001b[0m_num_outputs\u001b[0m\u001b[1;33m,\u001b[0m\u001b[1;33m\u001b[0m\u001b[1;33m\u001b[0m\u001b[0m\n",
      "\u001b[1;32mc:\\users\\aman\\appdata\\local\\programs\\python\\python38\\lib\\site-packages\\tensorflow\\python\\eager\\execute.py\u001b[0m in \u001b[0;36mquick_execute\u001b[1;34m(op_name, num_outputs, inputs, attrs, ctx, name)\u001b[0m\n\u001b[0;32m     57\u001b[0m   \u001b[1;32mtry\u001b[0m\u001b[1;33m:\u001b[0m\u001b[1;33m\u001b[0m\u001b[1;33m\u001b[0m\u001b[0m\n\u001b[0;32m     58\u001b[0m     \u001b[0mctx\u001b[0m\u001b[1;33m.\u001b[0m\u001b[0mensure_initialized\u001b[0m\u001b[1;33m(\u001b[0m\u001b[1;33m)\u001b[0m\u001b[1;33m\u001b[0m\u001b[1;33m\u001b[0m\u001b[0m\n\u001b[1;32m---> 59\u001b[1;33m     tensors = pywrap_tfe.TFE_Py_Execute(ctx._handle, device_name, op_name,\n\u001b[0m\u001b[0;32m     60\u001b[0m                                         inputs, attrs, num_outputs)\n\u001b[0;32m     61\u001b[0m   \u001b[1;32mexcept\u001b[0m \u001b[0mcore\u001b[0m\u001b[1;33m.\u001b[0m\u001b[0m_NotOkStatusException\u001b[0m \u001b[1;32mas\u001b[0m \u001b[0me\u001b[0m\u001b[1;33m:\u001b[0m\u001b[1;33m\u001b[0m\u001b[1;33m\u001b[0m\u001b[0m\n",
      "\u001b[1;31mKeyboardInterrupt\u001b[0m: "
     ]
    }
   ],
   "source": [
    "learner.fit_onecycle(lr = 2e-5, epochs = 1)"
   ]
  },
  {
   "cell_type": "code",
   "execution_count": null,
   "metadata": {
    "id": "jZILJSFbrES-"
   },
   "outputs": [],
   "source": [
    "predictor = ktrain.get_predictor(learner.model, preproc)"
   ]
  },
  {
   "cell_type": "code",
   "execution_count": null,
   "metadata": {
    "colab": {
     "base_uri": "https://localhost:8080/"
    },
    "id": "lU643ErJrFol",
    "outputId": "4e703124-4359-4d4f-d7fb-b577f7e3f1cb"
   },
   "outputs": [
    {
     "data": {
      "text/plain": [
       "['label_0', 'label_1', 'label_2', 'label_3']"
      ]
     },
     "execution_count": 98,
     "metadata": {
      "tags": []
     },
     "output_type": "execute_result"
    }
   ],
   "source": [
    "predictor.get_classes()"
   ]
  },
  {
   "cell_type": "code",
   "execution_count": null,
   "metadata": {
    "id": "i6keAiv1rIft"
   },
   "outputs": [],
   "source": [
    "pred_val = predictor.predict(val_df['text'].values)"
   ]
  },
  {
   "cell_type": "code",
   "execution_count": null,
   "metadata": {
    "id": "11ldkw9MQxAt"
   },
   "outputs": [],
   "source": [
    "prediction_val=[]\n",
    "for pred in pred_val:\n",
    "  if pred=='label_0':\n",
    "    prediction_val.append(0)\n",
    "  elif pred=='label_1':\n",
    "    prediction_val.append(1)\n",
    "  elif pred=='label_2':\n",
    "    prediction_val.append(2)\n",
    "  else:\n",
    "    prediction_val.append(3)"
   ]
  },
  {
   "cell_type": "code",
   "execution_count": null,
   "metadata": {
    "id": "mGB9JI1b0GO-"
   },
   "outputs": [],
   "source": [
    "y_val=val_df['label']"
   ]
  },
  {
   "cell_type": "code",
   "execution_count": null,
   "metadata": {
    "colab": {
     "base_uri": "https://localhost:8080/"
    },
    "id": "yCWL2CnprZgF",
    "outputId": "8e62c3db-78ac-4aa6-cfb4-69047a220308"
   },
   "outputs": [
    {
     "data": {
      "text/plain": [
       "(0.893040682122157, 0.894074074074074)"
      ]
     },
     "execution_count": 102,
     "metadata": {
      "tags": []
     },
     "output_type": "execute_result"
    }
   ],
   "source": [
    "# Getting F1 & Accuracy score of validation predictions\n",
    "f1 = f1_score(y_val, prediction_val,average='weighted')\n",
    "accuracy = accuracy_score(y_val, prediction_val)\n",
    "f1,accuracy"
   ]
  },
  {
   "cell_type": "markdown",
   "metadata": {
    "id": "HPlUZZFOyl65"
   },
   "source": [
    "##  Making Submission"
   ]
  },
  {
   "cell_type": "code",
   "execution_count": null,
   "metadata": {
    "id": "Y7ik1xV5yp6m"
   },
   "outputs": [],
   "source": [
    "pred_val = predictor.predict(test_df['text'].values)"
   ]
  },
  {
   "cell_type": "code",
   "execution_count": null,
   "metadata": {
    "id": "eqcnsXo00hf9"
   },
   "outputs": [],
   "source": [
    "prediction_test=[]\n",
    "for pred in pred_val:\n",
    "  if pred=='label_0':\n",
    "    prediction_test.append(0)\n",
    "  elif pred=='label_1':\n",
    "    prediction_test.append(1)\n",
    "  elif pred=='label_2':\n",
    "    prediction_test.append(2)\n",
    "  else:\n",
    "    prediction_test.append(3)"
   ]
  },
  {
   "cell_type": "code",
   "execution_count": null,
   "metadata": {
    "colab": {
     "base_uri": "https://localhost:8080/",
     "height": 422
    },
    "id": "Ny8DUZtS0ZoW",
    "outputId": "fb3a126b-4609-4db7-e351-b4aa54db6a1b"
   },
   "outputs": [
    {
     "data": {
      "text/html": [
       "<div>\n",
       "<style scoped>\n",
       "    .dataframe tbody tr th:only-of-type {\n",
       "        vertical-align: middle;\n",
       "    }\n",
       "\n",
       "    .dataframe tbody tr th {\n",
       "        vertical-align: top;\n",
       "    }\n",
       "\n",
       "    .dataframe thead th {\n",
       "        text-align: right;\n",
       "    }\n",
       "</style>\n",
       "<table border=\"1\" class=\"dataframe\">\n",
       "  <thead>\n",
       "    <tr style=\"text-align: right;\">\n",
       "      <th></th>\n",
       "      <th>id</th>\n",
       "      <th>text</th>\n",
       "      <th>label</th>\n",
       "    </tr>\n",
       "  </thead>\n",
       "  <tbody>\n",
       "    <tr>\n",
       "      <th>0</th>\n",
       "      <td>0</td>\n",
       "      <td>we propose a lightweight framework to detect i...</td>\n",
       "      <td>3</td>\n",
       "    </tr>\n",
       "    <tr>\n",
       "      <th>1</th>\n",
       "      <td>1</td>\n",
       "      <td>the proposed method presents an alternate solu...</td>\n",
       "      <td>2</td>\n",
       "    </tr>\n",
       "    <tr>\n",
       "      <th>2</th>\n",
       "      <td>2</td>\n",
       "      <td>proposed ear identification method fusing SIFT...</td>\n",
       "      <td>3</td>\n",
       "    </tr>\n",
       "    <tr>\n",
       "      <th>3</th>\n",
       "      <td>3</td>\n",
       "      <td>a method to reconstruct the three-dimensional ...</td>\n",
       "      <td>3</td>\n",
       "    </tr>\n",
       "    <tr>\n",
       "      <th>4</th>\n",
       "      <td>4</td>\n",
       "      <td>strong local consistencies can improve their p...</td>\n",
       "      <td>0</td>\n",
       "    </tr>\n",
       "    <tr>\n",
       "      <th>...</th>\n",
       "      <td>...</td>\n",
       "      <td>...</td>\n",
       "      <td>...</td>\n",
       "    </tr>\n",
       "    <tr>\n",
       "      <th>10795</th>\n",
       "      <td>10795</td>\n",
       "      <td>whole-body gradient echo scans of 240 subjects...</td>\n",
       "      <td>3</td>\n",
       "    </tr>\n",
       "    <tr>\n",
       "      <th>10796</th>\n",
       "      <td>10796</td>\n",
       "      <td>we present a tracker that accomplishes trackin...</td>\n",
       "      <td>3</td>\n",
       "    </tr>\n",
       "    <tr>\n",
       "      <th>10797</th>\n",
       "      <td>10797</td>\n",
       "      <td>the most popular FL algorithm is Federated Ave...</td>\n",
       "      <td>1</td>\n",
       "    </tr>\n",
       "    <tr>\n",
       "      <th>10798</th>\n",
       "      <td>10798</td>\n",
       "      <td>in the field of Autonomous Driving, the system...</td>\n",
       "      <td>2</td>\n",
       "    </tr>\n",
       "    <tr>\n",
       "      <th>10799</th>\n",
       "      <td>10799</td>\n",
       "      <td>our method takes as an input a foreground imag...</td>\n",
       "      <td>3</td>\n",
       "    </tr>\n",
       "  </tbody>\n",
       "</table>\n",
       "<p>10800 rows × 3 columns</p>\n",
       "</div>"
      ],
      "text/plain": [
       "          id                                               text  label\n",
       "0          0  we propose a lightweight framework to detect i...      3\n",
       "1          1  the proposed method presents an alternate solu...      2\n",
       "2          2  proposed ear identification method fusing SIFT...      3\n",
       "3          3  a method to reconstruct the three-dimensional ...      3\n",
       "4          4  strong local consistencies can improve their p...      0\n",
       "...      ...                                                ...    ...\n",
       "10795  10795  whole-body gradient echo scans of 240 subjects...      3\n",
       "10796  10796  we present a tracker that accomplishes trackin...      3\n",
       "10797  10797  the most popular FL algorithm is Federated Ave...      1\n",
       "10798  10798  in the field of Autonomous Driving, the system...      2\n",
       "10799  10799  our method takes as an input a foreground imag...      3\n",
       "\n",
       "[10800 rows x 3 columns]"
      ]
     },
     "execution_count": 105,
     "metadata": {
      "tags": []
     },
     "output_type": "execute_result"
    }
   ],
   "source": [
    "# Putting the results into the column of test dataset\n",
    "test_df['label'] = prediction_test\n",
    "test_df"
   ]
  },
  {
   "cell_type": "markdown",
   "metadata": {
    "id": "iw2g7VgQ0ZrT"
   },
   "source": [
    "## Saving in CSV format"
   ]
  },
  {
   "cell_type": "code",
   "execution_count": null,
   "metadata": {
    "id": "9FD_HwTz3Lm8"
   },
   "outputs": [],
   "source": [
    "import os"
   ]
  },
  {
   "cell_type": "code",
   "execution_count": null,
   "metadata": {
    "id": "_c3Ns_lKrZl-"
   },
   "outputs": [],
   "source": [
    "# Saving out results in submission.csv\n",
    "!mkdir assets\n",
    "test_df.to_csv(os.path.join(\"assets\", 'submission.csv'), index=False)"
   ]
  }
 ],
 "metadata": {
  "accelerator": "GPU",
  "colab": {
   "collapsed_sections": [],
   "name": "BERT_reseach_paper_classification.ipynb",
   "provenance": []
  },
  "kernelspec": {
   "display_name": "Python 3",
   "language": "python",
   "name": "python3"
  },
  "language_info": {
   "codemirror_mode": {
    "name": "ipython",
    "version": 3
   },
   "file_extension": ".py",
   "mimetype": "text/x-python",
   "name": "python",
   "nbconvert_exporter": "python",
   "pygments_lexer": "ipython3",
   "version": "3.8.4"
  }
 },
 "nbformat": 4,
 "nbformat_minor": 1
}
